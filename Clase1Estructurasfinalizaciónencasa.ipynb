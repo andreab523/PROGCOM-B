{
  "nbformat": 4,
  "nbformat_minor": 0,
  "metadata": {
    "colab": {
      "provenance": []
    },
    "kernelspec": {
      "name": "python3",
      "display_name": "Python 3"
    },
    "language_info": {
      "name": "python"
    }
  },
  "cells": [
    {
      "cell_type": "markdown",
      "source": [
        "#Estructuras de Selección\n",
        "Se emplean cuando quiero evaluar una condición. El resultado de la evaluación de esta condición siempre se da en Booleano (V o F)."
      ],
      "metadata": {
        "id": "PFK5lKgKL9Lg"
      }
    },
    {
      "cell_type": "markdown",
      "source": [
        "##Estructura if-else\n",
        "\n",
        "\n",
        "if (condición):\n",
        "  entro aquí, si la condición dió V\n",
        "else:\n",
        "  entro aquí, si la condición es = F"
      ],
      "metadata": {
        "id": "IZ58pc4fMQwG"
      }
    },
    {
      "cell_type": "markdown",
      "source": [
        "7. Año bisiesto\n",
        "\n",
        "1.   Elemento de la lista\n",
        "2.   Elemento de la lista\n",
        "\n"
      ],
      "metadata": {
        "id": "_E8G1ECsM568"
      }
    },
    {
      "cell_type": "code",
      "execution_count": null,
      "metadata": {
        "id": "KRS51Pn7L5j3"
      },
      "outputs": [],
      "source": [
        "#1. Es divisible entre 4\n",
        "#2. Es divisible entre 400 pero no entre 100\n",
        "año = int(input(\"Introduzca un año: \"))\n",
        "if (año%4==0 and año%100!=0):\n",
        "  print(f\"{año} es un año bisiesto\")\n",
        "else:\n",
        "  if (año%400==0):\n",
        "    print(f\"{año} es un año bisiesto\")\n",
        "    else:\n",
        "      print(f\"{año} no es un año bisiesto\")"
      ]
    },
    {
      "cell_type": "markdown",
      "source": [
        "##Estructura de decisión múltiple if-elif-else\n",
        "Se emplea cuando hay más de una decisión.\n",
        "\n",
        "```\n",
        "if (cond1):\n",
        "si cond1 es V. entro aquí\n",
        "elif (cond2):\n",
        "si cond1 es falso, pero cond2 es V, entro aquí.\n",
        "elif (cond3):\n",
        "si cond1 y cond2 son falso, pero cond3 es V, entro aquí\n",
        "else: si cond1 y cond2 y cond3 y condn son falsas, entrará aquí\n",
        "```"
      ],
      "metadata": {
        "id": "yq3bsaTSPWxG"
      }
    },
    {
      "cell_type": "code",
      "source": [
        "if (año%4==0 and año%100!=0): print(f\"{año} es un año bisiesto\")\n",
        "elif año%400==0:print(f\"{año} es un año bisiesto\")\n",
        "else:print(f\"{año} no es un año bisiesto\")"
      ],
      "metadata": {
        "id": "MQDlw-WFQF4s"
      },
      "execution_count": null,
      "outputs": []
    },
    {
      "cell_type": "markdown",
      "source": [
        "##Operador ternario\n",
        "Programar una estructura de selección en una sola línea de código\n",
        "\n",
        "\n",
        "```\n",
        "(Lo que se debe ejecutar si la condición es verdadera) if (condición) else (lo que se debe ejecutar, si la condición es falsa)\n",
        "```\n",
        "\n"
      ],
      "metadata": {
        "id": "cuuIKs0_VjK2"
      }
    },
    {
      "cell_type": "markdown",
      "source": [],
      "metadata": {
        "id": "bluTd7PwY9V-"
      }
    },
    {
      "cell_type": "code",
      "source": [
        "print(f\"{año} es un año bisiesto\") if (año%4==0 and año%100!=0) else (print(f\"{año} es un año bisiesto\")if año%400==0 and año%100 else print(f\"{año} no es un año bisiesto\"))\n"
      ],
      "metadata": {
        "id": "m5oWu1acWEx1"
      },
      "execution_count": null,
      "outputs": []
    },
    {
      "cell_type": "markdown",
      "source": [
        "**Ejercicios Prueba diagnóstica**"
      ],
      "metadata": {
        "id": "5JG8fqDOR4C4"
      }
    },
    {
      "cell_type": "markdown",
      "source": [
        "1. Escribe un programa que reciba un número e indique si es positivo.\n",
        "\n",
        "```\n",
        "Estructura if-else\n",
        "```"
      ],
      "metadata": {
        "id": "P7nE7pwJSEFP"
      }
    },
    {
      "cell_type": "code",
      "source": [
        "numero = float(input(\"Ingrese un número: \"))\n",
        "if numero > 0:\n",
        "  print(\"El número es positivo.\")\n",
        "else:\n",
        "  print(\"El número no es positivo.\")"
      ],
      "metadata": {
        "colab": {
          "base_uri": "https://localhost:8080/"
        },
        "id": "bAPEWxioSLg3",
        "outputId": "c0e25db8-a039-4dbe-d10a-dda56dd9cb38"
      },
      "execution_count": null,
      "outputs": [
        {
          "output_type": "stream",
          "name": "stdout",
          "text": [
            "Ingrese un número: 3\n",
            "El número es positivo.\n"
          ]
        }
      ]
    },
    {
      "cell_type": "markdown",
      "source": [
        "\n",
        "```\n",
        "Estructura de decisión múltiple if-elif-else\n",
        "```"
      ],
      "metadata": {
        "id": "wp_VeNHwSyHe"
      }
    },
    {
      "cell_type": "code",
      "source": [
        "numero = float(input(\"Ingresa un número: \"))\n",
        "if numero > 0:\n",
        "  print(\"El número es positivo.\")\n",
        "elif numero < 0:\n",
        "  print(\"El número es negativo.\")\n",
        "else:\n",
        "  print(\"El número es cero.\")"
      ],
      "metadata": {
        "colab": {
          "base_uri": "https://localhost:8080/"
        },
        "id": "p7Oja2YYS56l",
        "outputId": "51fa450f-a0db-423d-d799-0845383681b0"
      },
      "execution_count": null,
      "outputs": [
        {
          "output_type": "stream",
          "name": "stdout",
          "text": [
            "Ingresa un número: 3\n",
            "El número es positivo.\n"
          ]
        }
      ]
    },
    {
      "cell_type": "markdown",
      "source": [
        "\n",
        "\n",
        "```\n",
        "Operador Ternario\n",
        "```\n",
        "\n"
      ],
      "metadata": {
        "id": "vPvAMnou_zd4"
      }
    },
    {
      "cell_type": "code",
      "source": [
        "num1 = int(input(\"Escribe el primer número: \"))\n",
        "num2 = int(input(\"Escribe el segundo número: \"))\n",
        "num3 = int(input(\"Escribe el tercer número: \"))\n",
        "mayor = num1 if (num1 > num2 and num1 > num3) else (num2 if num2 > num3 else num3)\n",
        "print(f\"El número mayor es: {mayor}\")"
      ],
      "metadata": {
        "colab": {
          "base_uri": "https://localhost:8080/"
        },
        "id": "DR6eZIAx_6Sy",
        "outputId": "57ea6e50-8929-4743-9da0-433f1f3bfaa0"
      },
      "execution_count": 1,
      "outputs": [
        {
          "output_type": "stream",
          "name": "stdout",
          "text": [
            "Escribe el primer número: 1\n",
            "Escribe el segundo número: 2\n",
            "Escribe el tercer número: 4\n",
            "El número mayor es: 4\n"
          ]
        }
      ]
    },
    {
      "cell_type": "markdown",
      "source": [
        "2.Escribe un programa que reciba una edad y determine si la persona es mayor de edad.\n",
        "\n",
        "```\n",
        "Estructura if-else\n",
        "```"
      ],
      "metadata": {
        "id": "h10lNBnFT65D"
      }
    },
    {
      "cell_type": "code",
      "source": [
        "edad = int(input(\"Ingresa tu edad: \"))\n",
        "if edad >= 18:\n",
        "  print(\"Eres mayor de edad. \")\n",
        "else:\n",
        "  print(\"Eres menor de edad.\")"
      ],
      "metadata": {
        "colab": {
          "base_uri": "https://localhost:8080/"
        },
        "id": "YyuHwB3nUaPB",
        "outputId": "5058f667-cdcb-4a03-e1f9-8391cd0d2f03"
      },
      "execution_count": null,
      "outputs": [
        {
          "output_type": "stream",
          "name": "stdout",
          "text": [
            "Ingresa tu edad: 21\n",
            "Eres mayor de edad. \n"
          ]
        }
      ]
    },
    {
      "cell_type": "markdown",
      "source": [
        "\n",
        "```\n",
        "Estructura de decisión múltiple if-elif-else\n",
        "```\n",
        "\n"
      ],
      "metadata": {
        "id": "FTAz2Xd8WPTV"
      }
    },
    {
      "cell_type": "code",
      "source": [
        "edad = int(input(\"Ingresa tu edad: \"))\n",
        "if edad <= 0:\n",
        "  print(\"ERROR. Tu edad no puede ser negativa.\")\n",
        "elif edad < 18:\n",
        "  print(\"Eres menor de edad.\")\n",
        "else:\n",
        "  print(\"Eres mayor de edad.\")"
      ],
      "metadata": {
        "colab": {
          "base_uri": "https://localhost:8080/"
        },
        "id": "EoMBED5OXFnL",
        "outputId": "f5eb7588-249e-41d9-845d-9785e525b356"
      },
      "execution_count": null,
      "outputs": [
        {
          "output_type": "stream",
          "name": "stdout",
          "text": [
            "Ingresa tu edad: 12\n",
            "Eres menor de edad.\n"
          ]
        }
      ]
    },
    {
      "cell_type": "markdown",
      "source": [
        "\n",
        "\n",
        "```\n",
        "Operador Ternario\n",
        "```\n",
        "\n"
      ],
      "metadata": {
        "id": "obqCphyPACfK"
      }
    },
    {
      "cell_type": "code",
      "source": [
        "edad = int(input(\"Escribe una edad: \"))\n",
        "print(\"Es mayor de edad.\" if edad >= 18 else \"Es menor de edad.\")"
      ],
      "metadata": {
        "colab": {
          "base_uri": "https://localhost:8080/"
        },
        "id": "ybaSuS8XAEQc",
        "outputId": "f5d4cee9-cbca-490d-80f6-3d9a6a4d15c6"
      },
      "execution_count": 2,
      "outputs": [
        {
          "output_type": "stream",
          "name": "stdout",
          "text": [
            "Escribe una edad: 31\n",
            "Es mayor de edad.\n"
          ]
        }
      ]
    },
    {
      "cell_type": "markdown",
      "source": [
        "3. Escribe un programa que reciba dos números e imprima el mayor.\n",
        "\n",
        "\n",
        "```\n",
        "Estructura if-else\n",
        "```\n",
        "\n"
      ],
      "metadata": {
        "id": "5Yfx0POZX8WR"
      }
    },
    {
      "cell_type": "code",
      "source": [
        "numero1 = float(input(\"Ingresa el primer número: \"))\n",
        "numero2 = float(input(\"Ingresa el segundo número: \"))\n",
        "if numero1 > numero2:\n",
        "  print(f\"El mayor es {numero1}\")\n",
        "else:\n",
        "  print(f\"El mayor es {numero2}\")"
      ],
      "metadata": {
        "colab": {
          "base_uri": "https://localhost:8080/"
        },
        "id": "txoMmTjvZsqV",
        "outputId": "8a734d95-3cc0-42e8-f445-996e940cee69"
      },
      "execution_count": null,
      "outputs": [
        {
          "output_type": "stream",
          "name": "stdout",
          "text": [
            "Ingresa el primer número: 3\n",
            "Ingresa el segundo número: 2\n",
            "El mayor es 3.0\n"
          ]
        }
      ]
    },
    {
      "cell_type": "markdown",
      "source": [
        "\n",
        "```\n",
        "Estructura de decisión múltiple if-elif-else\n",
        "```"
      ],
      "metadata": {
        "id": "BuQb7FC7avuq"
      }
    },
    {
      "cell_type": "code",
      "source": [
        "numero1 = float(input(\"Ingresa el primero número: \"))\n",
        "numero2 = float(input(\"Ingresa el segundo número: \"))\n",
        "if numero1 > numero2:\n",
        "  print(f\"El mayor es: {numero1}\")\n",
        "elif numero2 > numero1:\n",
        "  print(f\"El mayor es: {numero2}\")\n",
        "else:\n",
        "  print(\"Ambos números son iguales.\")"
      ],
      "metadata": {
        "colab": {
          "base_uri": "https://localhost:8080/"
        },
        "id": "N0ZIXgiUa5da",
        "outputId": "6568498b-d4f4-42dd-ab69-cb24634906c8"
      },
      "execution_count": null,
      "outputs": [
        {
          "output_type": "stream",
          "name": "stdout",
          "text": [
            "Ingresa el primero número: 1\n",
            "Ingresa el segundo número: 2\n",
            "El mayor es: 2.0\n"
          ]
        }
      ]
    },
    {
      "cell_type": "markdown",
      "source": [
        "\n",
        "\n",
        "```\n",
        "Operador Ternario\n",
        "```\n",
        "\n"
      ],
      "metadata": {
        "id": "vBBlzquxAN4z"
      }
    },
    {
      "cell_type": "code",
      "source": [
        "Vnum1 = int(input(\"Escribe el primer número: \"))\n",
        "num2 = int(input(\"Escribe el segundo número: \"))\n",
        "mayor = num1 if num1 > num2 else num2\n",
        "print(f\"El número mayor es: {mayor}\")"
      ],
      "metadata": {
        "colab": {
          "base_uri": "https://localhost:8080/"
        },
        "id": "RWa5jYk7APl6",
        "outputId": "d7a353d6-2bfd-4b12-c7b8-aae2d3302c9e"
      },
      "execution_count": 3,
      "outputs": [
        {
          "output_type": "stream",
          "name": "stdout",
          "text": [
            "Escribe el primer número: 10\n",
            "Escribe el segundo número: 24\n",
            "El número mayor es: 24\n"
          ]
        }
      ]
    },
    {
      "cell_type": "markdown",
      "source": [
        "4. Escribe un programa que reciba una calificación (0-100) e indique si es Aprobado (>=60) o Reprobado.\n",
        "```\n",
        "Estructura if-else\n",
        "```"
      ],
      "metadata": {
        "id": "C8I6P6xXcRbm"
      }
    },
    {
      "cell_type": "code",
      "source": [
        "calificacion = float(input(\"Ingrese su calificación (0-100): \"))\n",
        "if 0 <= calificacion <= 100:\n",
        "  if calificacion >= 60:\n",
        "    print(\"Aprobado\")\n",
        "  else:\n",
        "    print(\"Reprobado\")"
      ],
      "metadata": {
        "colab": {
          "base_uri": "https://localhost:8080/"
        },
        "id": "62VW96Xqc_78",
        "outputId": "635497df-925a-4111-8de9-bb95f9af0046"
      },
      "execution_count": null,
      "outputs": [
        {
          "output_type": "stream",
          "name": "stdout",
          "text": [
            "Ingrese su calificación (0-100): 60\n",
            "Aprobado\n"
          ]
        }
      ]
    },
    {
      "cell_type": "markdown",
      "source": [
        "\n",
        "```\n",
        "Estructura de decisión múltiple if-elif-else\n",
        "```\n"
      ],
      "metadata": {
        "id": "YKYba1fLdZJr"
      }
    },
    {
      "cell_type": "code",
      "source": [
        "calificacion = float(input(\"Ingrese la calificación (0-100): \"))\n",
        "if calificacion >= 60:\n",
        "    print(\"Aprobado\")\n",
        "elif calificacion < 0 or calificacion > 100:\n",
        "    print(\"Calificación no válida. Debe estar entre 0 y 100.\")\n",
        "else:\n",
        "    print(\"Reprobado\")"
      ],
      "metadata": {
        "id": "8-TCjudPdiKy",
        "colab": {
          "base_uri": "https://localhost:8080/"
        },
        "outputId": "985218f3-95ab-48eb-a36e-b96bfd5d39b4"
      },
      "execution_count": 35,
      "outputs": [
        {
          "output_type": "stream",
          "name": "stdout",
          "text": [
            "Ingrese la calificación (0-100): -3\n",
            "Calificación no válida. Debe estar entre 0 y 100.\n"
          ]
        }
      ]
    },
    {
      "cell_type": "markdown",
      "source": [
        "\n",
        "\n",
        "```\n",
        "Operador Ternario\n",
        "```\n",
        "\n"
      ],
      "metadata": {
        "id": "3plD1fOGAcDR"
      }
    },
    {
      "cell_type": "code",
      "source": [
        "calificacion = float(input(\"Escribe la calificación: \"))\n",
        "print(\"Aprobado.\" if calificacion >= 60.0 else \"Reprobado.\")"
      ],
      "metadata": {
        "colab": {
          "base_uri": "https://localhost:8080/"
        },
        "id": "vji5_4-MAeM5",
        "outputId": "a2b1f266-0cc2-431f-d874-1bea1c20160a"
      },
      "execution_count": 13,
      "outputs": [
        {
          "output_type": "stream",
          "name": "stdout",
          "text": [
            "Escribe la calificación: 50\n",
            "Reprobado.\n"
          ]
        }
      ]
    },
    {
      "cell_type": "markdown",
      "source": [
        "5. Escribe un programa que determine si un número es par o impar\n",
        "\n",
        "\n",
        "```\n",
        "Estructura if-else\n",
        "```\n",
        "\n"
      ],
      "metadata": {
        "id": "6h3MopJkdrF6"
      }
    },
    {
      "cell_type": "code",
      "source": [
        "numero = int(input(\"Ingresa un número: \"))\n",
        "if (numero // 2) * 2 == numero:\n",
        "  print(f\"El número {numero} es par.\")\n",
        "else:\n",
        "  print(f\"El número {numero} es impar.\")"
      ],
      "metadata": {
        "colab": {
          "base_uri": "https://localhost:8080/"
        },
        "id": "6Syy_MADd8KR",
        "outputId": "aca18a39-0d41-4e21-d910-4de71833956f"
      },
      "execution_count": null,
      "outputs": [
        {
          "output_type": "stream",
          "name": "stdout",
          "text": [
            "Ingresa un número: 3\n",
            "El número 3 es impar.\n"
          ]
        }
      ]
    },
    {
      "cell_type": "markdown",
      "source": [
        "\n",
        "\n",
        "```\n",
        "Estructura if-elif-else\n",
        "```\n",
        "\n"
      ],
      "metadata": {
        "id": "Q5-n9vE4FSFB"
      }
    },
    {
      "cell_type": "code",
      "source": [
        "numero = int(input(\"Ingresa un número: \"))\n",
        "if numero % 2 == 0:\n",
        "    print(f\"El número {numero} es par.\")\n",
        "elif numero % 2 != 0:\n",
        "    print(f\"El número {numero} es impar.\")\n",
        "else:\n",
        "    print(\"Error: No se pudo determinar si el número es par o impar.\")"
      ],
      "metadata": {
        "colab": {
          "base_uri": "https://localhost:8080/"
        },
        "id": "zCF0YZYIFXTc",
        "outputId": "cfb720e6-10ad-4c60-9f5d-27b349664d6c"
      },
      "execution_count": 14,
      "outputs": [
        {
          "output_type": "stream",
          "name": "stdout",
          "text": [
            "Ingresa un número: 30\n",
            "El número 30 es par.\n"
          ]
        }
      ]
    },
    {
      "cell_type": "markdown",
      "source": [
        "\n",
        "\n",
        "```\n",
        "Operador Ternario\n",
        "```\n",
        "\n"
      ],
      "metadata": {
        "id": "E-ksxPcrAm4U"
      }
    },
    {
      "cell_type": "code",
      "source": [
        "numero = int(input(\"Escribe un número: \"))\n",
        "print(\"El número es par.\" if numero % 2 == 0 else \"El número es impar.\")"
      ],
      "metadata": {
        "colab": {
          "base_uri": "https://localhost:8080/"
        },
        "id": "WR4hjTehApph",
        "outputId": "5665fa87-5742-4800-fa4c-ace4427ad5b0"
      },
      "execution_count": 5,
      "outputs": [
        {
          "output_type": "stream",
          "name": "stdout",
          "text": [
            "Escribe un número: 3\n",
            "El número es impar.\n"
          ]
        }
      ]
    },
    {
      "cell_type": "markdown",
      "source": [
        "6. Escriba un programa que reciba tres números e imprima el mayor de los tres."
      ],
      "metadata": {
        "id": "WTRtGPBVeSSg"
      }
    },
    {
      "cell_type": "markdown",
      "source": [
        "\n",
        "\n",
        "```\n",
        "Estructura if-else\n",
        "```\n",
        "\n"
      ],
      "metadata": {
        "id": "2PvWsDKwGaEs"
      }
    },
    {
      "cell_type": "code",
      "source": [
        "num1 = float(input(\"Ingrese el primer número: \"))\n",
        "num2 = float(input(\"Ingrese el segundo número: \"))\n",
        "num3 = float(input(\"Ingrese el tercer número: \"))\n",
        "if num1 >= num2 and num1 >= num3:\n",
        "    mayor = num1\n",
        "elif num2 >= num1 and num2 >= num3:\n",
        "    mayor = num2\n",
        "else:\n",
        "    mayor = num3\n",
        "print(\"El mayor de los tres números es:\", mayor)"
      ],
      "metadata": {
        "colab": {
          "base_uri": "https://localhost:8080/"
        },
        "id": "9dlPwEqUGeIF",
        "outputId": "52edba93-7cbf-4989-8c98-50ebeddf9807"
      },
      "execution_count": 16,
      "outputs": [
        {
          "output_type": "stream",
          "name": "stdout",
          "text": [
            "Ingrese el primer número: 12\n",
            "Ingrese el segundo número: 15\n",
            "Ingrese el tercer número: 16\n",
            "El mayor de los tres números es: 16.0\n"
          ]
        }
      ]
    },
    {
      "cell_type": "markdown",
      "source": [
        "\n",
        "\n",
        "```\n",
        "Estructura if-elif-else\n",
        "```\n",
        "\n"
      ],
      "metadata": {
        "id": "crDFqqGbG2H3"
      }
    },
    {
      "cell_type": "code",
      "source": [
        "num1 = float(input(\"Ingrese el primer número: \"))\n",
        "num2 = float(input(\"Ingrese el segundo número: \"))\n",
        "num3 = float(input(\"Ingrese el tercer número: \"))\n",
        "if num1 >= num2 and num1 >= num3:\n",
        "    mayor = num1\n",
        "elif num2 >= num1 and num2 >= num3:\n",
        "    mayor = num2\n",
        "else:\n",
        "    mayor = num3\n",
        "print(\"El mayor de los tres números es:\", mayor)"
      ],
      "metadata": {
        "colab": {
          "base_uri": "https://localhost:8080/"
        },
        "id": "SEDD4NQCG7S1",
        "outputId": "e8c6fd7c-ff7d-4852-a89b-f6291fa73be8"
      },
      "execution_count": 17,
      "outputs": [
        {
          "output_type": "stream",
          "name": "stdout",
          "text": [
            "Ingrese el primer número: 79\n",
            "Ingrese el segundo número: 0\n",
            "Ingrese el tercer número: 10\n",
            "El mayor de los tres números es: 79.0\n"
          ]
        }
      ]
    },
    {
      "cell_type": "markdown",
      "source": [
        "\n",
        "\n",
        "```\n",
        "Operador Ternario\n",
        "```\n",
        "\n"
      ],
      "metadata": {
        "id": "TXnc4pVgAw9f"
      }
    },
    {
      "cell_type": "code",
      "source": [
        "num1 = int(input(\"Escribe el primer número: \"))\n",
        "num2 = int(input(\"Escribe el segundo número: \"))\n",
        "num3 = int(input(\"Escribe el tercer número: \"))\n",
        "mayor = num1 if (num1 > num2 and num1 > num3) else (num2 if num2 > num3 else num3)\n",
        "print(f\"El número mayor es: {mayor}\")"
      ],
      "metadata": {
        "colab": {
          "base_uri": "https://localhost:8080/"
        },
        "id": "YuhVH0P-Ayi8",
        "outputId": "927b98b8-cb65-4153-db17-1fcf674ea1c1"
      },
      "execution_count": 6,
      "outputs": [
        {
          "output_type": "stream",
          "name": "stdout",
          "text": [
            "Escribe el primer número: 23\n",
            "Escribe el segundo número: 2\n",
            "Escribe el tercer número: 45\n",
            "El número mayor es: 45\n"
          ]
        }
      ]
    },
    {
      "cell_type": "markdown",
      "source": [
        "8. Escribe un programa que reciba una contraseña e indique si cumple con las siguientes reglas: más de 8 caracteres, contiene al menos un número y una letra mayúscula.\n",
        "\n",
        "\n",
        "```\n",
        "No supe cómo hacerlo\n",
        "```\n",
        "\n"
      ],
      "metadata": {
        "id": "j9UknhIoA8Rr"
      }
    },
    {
      "cell_type": "markdown",
      "source": [
        "9. Escribe un programa que lea un número e imprima “Fizz” si es divisible por 3, “Buzz” si es divisible por 5 y “FizzBuzz” si es divisible por ambos.\n",
        "\n",
        "\n",
        "```\n",
        "Estructura if-else\n",
        "```\n",
        "\n"
      ],
      "metadata": {
        "id": "Js9j2psWBgSs"
      }
    },
    {
      "cell_type": "code",
      "source": [
        "numero = int(input(\"Introduce un número: \"))\n",
        "if numero % 3 == 0 and numero % 5 == 0:\n",
        "    print(\"FizzBuzz\")\n",
        "else:\n",
        "    if numero % 3 == 0:\n",
        "        print(\"Fizz\")\n",
        "    elif numero % 5 == 0:\n",
        "        print(\"Buzz\")\n",
        "    else:\n",
        "        print(numero)"
      ],
      "metadata": {
        "colab": {
          "base_uri": "https://localhost:8080/"
        },
        "id": "ul6LhmdLKxfl",
        "outputId": "98622ea3-6127-4014-9ecf-f034106b6a87"
      },
      "execution_count": 20,
      "outputs": [
        {
          "output_type": "stream",
          "name": "stdout",
          "text": [
            "Introduce un número: 57\n",
            "Fizz\n"
          ]
        }
      ]
    },
    {
      "cell_type": "markdown",
      "source": [
        "\n",
        "\n",
        "```\n",
        "Estructura if-elif-else\n",
        "```\n",
        "\n"
      ],
      "metadata": {
        "id": "9KPMMLF_LBGC"
      }
    },
    {
      "cell_type": "code",
      "source": [
        "numero = int(input(\"Introduce un número: \"))\n",
        "if numero % 3 == 0 and numero % 5 == 0:\n",
        "    print(\"FizzBuzz\")\n",
        "elif numero % 3 == 0:\n",
        "    print(\"Fizz\")\n",
        "elif numero % 5 == 0:\n",
        "    print(\"Buzz\")\n",
        "else:\n",
        "    print(numero)"
      ],
      "metadata": {
        "colab": {
          "base_uri": "https://localhost:8080/"
        },
        "id": "kk_fUPxdLHW0",
        "outputId": "eb41948b-4327-4cce-babf-3b58894f4713"
      },
      "execution_count": 21,
      "outputs": [
        {
          "output_type": "stream",
          "name": "stdout",
          "text": [
            "Introduce un número: 456\n",
            "Fizz\n"
          ]
        }
      ]
    },
    {
      "cell_type": "markdown",
      "source": [
        "\n",
        "\n",
        "```\n",
        "Operador Ternario\n",
        "```\n",
        "\n"
      ],
      "metadata": {
        "id": "8B9tb-s8BvJo"
      }
    },
    {
      "cell_type": "code",
      "source": [
        "numero = int(input(\"Ingrese un número: \"))\n",
        "print(\"FizzBuzz\" if numero % 3 == 0 and numero% 5 == 0 else (\"Fizz\" if numero % 3 == 0 else (\"Buzz\" if numero % 5 == 0 else numero)))"
      ],
      "metadata": {
        "colab": {
          "base_uri": "https://localhost:8080/"
        },
        "id": "6FgSZSMxBhP-",
        "outputId": "ad2761d6-168a-4e94-ca7f-b3df5b91dd38"
      },
      "execution_count": 33,
      "outputs": [
        {
          "output_type": "stream",
          "name": "stdout",
          "text": [
            "Ingrese un número: 80\n",
            "Buzz\n"
          ]
        }
      ]
    },
    {
      "cell_type": "markdown",
      "source": [
        "10. Escribe un programa que simule un cajero automático: recibe el monto a retirar e imprime si la operación es posible en base al saldo disponible.\n",
        "\n",
        "\n",
        "```\n",
        "Estructura if-else\n",
        "```\n",
        "\n"
      ],
      "metadata": {
        "id": "cpFGEXoYBzBL"
      }
    },
    {
      "cell_type": "code",
      "source": [
        "# Saldo disponible en el cajero\n",
        "saldo = 10000\n",
        "# Monto a retirar\n",
        "monto_a_retirar = float(input(\"Ingrese el monto a retirar: \"))\n",
        "# Verificar si la operación es posible\n",
        "if monto_a_retirar <= saldo:\n",
        "    print(\"Ha retirado:\", monto_a_retirar)\n",
        "else:\n",
        "    print(\"Saldo insuficiente.\")"
      ],
      "metadata": {
        "colab": {
          "base_uri": "https://localhost:8080/"
        },
        "id": "f5vpJM-QLWQZ",
        "outputId": "c429510c-80e8-4b3e-f58c-f8daf8f4d080"
      },
      "execution_count": 27,
      "outputs": [
        {
          "output_type": "stream",
          "name": "stdout",
          "text": [
            "Ingrese el monto a retirar: 500000\n",
            "Saldo insuficiente.\n"
          ]
        }
      ]
    },
    {
      "cell_type": "markdown",
      "source": [
        "\n",
        "\n",
        "```\n",
        "Estructura if-elif-else\n",
        "```\n",
        "\n"
      ],
      "metadata": {
        "id": "JtcluMzvL49m"
      }
    },
    {
      "cell_type": "code",
      "source": [
        "# Saldo disponible en el cajero\n",
        "saldo = 10000\n",
        "# Monto a retirar\n",
        "monto_a_retirar = float(input(\"Ingrese el monto a retirar: \"))\n",
        "# Verificar si la operación es posible\n",
        "if monto_a_retirar <= 0:\n",
        "    print(\"No es posible.\")\n",
        "elif monto_a_retirar <= saldo:\n",
        "    print(\"Transacción realizada\")\n",
        "else:\n",
        "    print(\"Saldo insuficiente.\")"
      ],
      "metadata": {
        "colab": {
          "base_uri": "https://localhost:8080/"
        },
        "id": "N-SLUpC5L8Gt",
        "outputId": "e7d37b57-9482-4f92-bedd-3ffb2fff7b61"
      },
      "execution_count": 31,
      "outputs": [
        {
          "output_type": "stream",
          "name": "stdout",
          "text": [
            "Ingrese el monto a retirar: 0\n",
            "No es posible.\n"
          ]
        }
      ]
    },
    {
      "cell_type": "markdown",
      "source": [
        "\n",
        "\n",
        "```\n",
        "Operador Ternario\n",
        "```\n",
        "\n"
      ],
      "metadata": {
        "id": "JxG1DddWB0G8"
      }
    },
    {
      "cell_type": "code",
      "source": [
        "monto = float(input(\"Ingrese el monto a retirar: \"))\n",
        "saldo = 10000  # Ejemplo de saldo disponible\n",
        "print(\"Transacción realizada\" if monto <= saldo else \"Saldo insuficiente\")"
      ],
      "metadata": {
        "colab": {
          "base_uri": "https://localhost:8080/"
        },
        "id": "hsqUD5HBB2GC",
        "outputId": "f92669ee-8281-4783-a16a-09c505e19cdb"
      },
      "execution_count": 26,
      "outputs": [
        {
          "output_type": "stream",
          "name": "stdout",
          "text": [
            "Ingrese el monto a retirar: 9000\n",
            "Transacción realizada\n"
          ]
        }
      ]
    }
  ]
}