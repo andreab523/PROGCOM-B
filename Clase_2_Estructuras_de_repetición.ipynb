{
  "nbformat": 4,
  "nbformat_minor": 0,
  "metadata": {
    "colab": {
      "provenance": []
    },
    "kernelspec": {
      "name": "python3",
      "display_name": "Python 3"
    },
    "language_info": {
      "name": "python"
    }
  },
  "cells": [
    {
      "cell_type": "markdown",
      "source": [
        "# Estructuras de repetición\n",
        "\n",
        "\n",
        "\n",
        "Se emplean cuando se desea repetir una parte del codigo, dada una **condición**\n",
        "\n",
        "\n"
      ],
      "metadata": {
        "id": "BiRv7-gdl4EC"
      }
    },
    {
      "cell_type": "markdown",
      "source": [
        "##Listas\n",
        "- Son un conjunto de objetos, **inexado**, separado por comas y encerrado entre [].\n",
        "- Todos los elementos dentro de una lista, se empiezan a contar desde 0.\n",
        "##Creación de listas\n",
        "- Forma general: lista[]\n",
        "- Forma manual: animales=[\"gato\", \"perro\", \"zorro\", \"oso\"]\n",
        "- Por conversión: número=list(range(10))\n",
        "\n",
        "\n",
        "\n",
        "\n",
        "```\n",
        "Lista=[]\n",
        "```\n",
        "\n",
        "\n",
        "\n"
      ],
      "metadata": {
        "id": "SyZ1syjKwc-w"
      }
    },
    {
      "cell_type": "code",
      "source": [
        "lista=[]"
      ],
      "metadata": {
        "id": "_B2ZrcjuxkT_"
      },
      "execution_count": 3,
      "outputs": []
    },
    {
      "cell_type": "code",
      "source": [
        "type(lista)"
      ],
      "metadata": {
        "colab": {
          "base_uri": "https://localhost:8080/"
        },
        "id": "MAIfUuNyxr93",
        "outputId": "0b11707d-15c5-4e75-a384-5cbb84f390c4"
      },
      "execution_count": 4,
      "outputs": [
        {
          "output_type": "execute_result",
          "data": {
            "text/plain": [
              "list"
            ]
          },
          "metadata": {},
          "execution_count": 4
        }
      ]
    },
    {
      "cell_type": "code",
      "source": [
        " zorro=(1,2,3,4)\n",
        " animales=[\"gato\", \"perro\", zorro, \"oso\"]\n",
        " animales"
      ],
      "metadata": {
        "colab": {
          "base_uri": "https://localhost:8080/"
        },
        "id": "KfuVlQYzyHYG",
        "outputId": "0d8b2732-c9b1-4ecc-fea0-f3508823a5dc"
      },
      "execution_count": 5,
      "outputs": [
        {
          "output_type": "execute_result",
          "data": {
            "text/plain": [
              "['gato', 'perro', (1, 2, 3, 4), 'oso']"
            ]
          },
          "metadata": {},
          "execution_count": 5
        }
      ]
    },
    {
      "cell_type": "code",
      "source": [
        "type(zorro)"
      ],
      "metadata": {
        "colab": {
          "base_uri": "https://localhost:8080/"
        },
        "id": "t6jVo9uWyeKP",
        "outputId": "a6187551-036b-48d7-d836-7995c4f7263e"
      },
      "execution_count": 6,
      "outputs": [
        {
          "output_type": "execute_result",
          "data": {
            "text/plain": [
              "tuple"
            ]
          },
          "metadata": {},
          "execution_count": 6
        }
      ]
    },
    {
      "cell_type": "code",
      "source": [
        "número=list(range(10))\n",
        "número"
      ],
      "metadata": {
        "colab": {
          "base_uri": "https://localhost:8080/"
        },
        "id": "--39FVLczXMF",
        "outputId": "bd769950-f203-4e6c-bc64-328c8fbe55af"
      },
      "execution_count": 7,
      "outputs": [
        {
          "output_type": "execute_result",
          "data": {
            "text/plain": [
              "[0, 1, 2, 3, 4, 5, 6, 7, 8, 9]"
            ]
          },
          "metadata": {},
          "execution_count": 7
        }
      ]
    },
    {
      "cell_type": "code",
      "source": [
        "range(10)"
      ],
      "metadata": {
        "id": "v174veVCzi4m"
      },
      "execution_count": null,
      "outputs": []
    },
    {
      "cell_type": "code",
      "source": [
        "type(range(10))"
      ],
      "metadata": {
        "colab": {
          "base_uri": "https://localhost:8080/"
        },
        "id": "wLZt7vFozqfN",
        "outputId": "36eec99e-0f09-4ec8-963e-65e232567ec1"
      },
      "execution_count": 8,
      "outputs": [
        {
          "output_type": "execute_result",
          "data": {
            "text/plain": [
              "range"
            ]
          },
          "metadata": {},
          "execution_count": 8
        }
      ]
    },
    {
      "cell_type": "markdown",
      "source": [
        "##Estructura para - for\n",
        "\n",
        "\n",
        "```\n",
        "Se usa cuando\n",
        "- Se sabe cuántas veces se repite una acción\n",
        "- Está compuesta por un contador y una condición\n",
        "- Contador:Identifica cuántas veces se va a reptir el bucle y con qué frecuencia\n",
        "- Condición: Evalúa cuándo se detiene\n",
        "\n",
        "Por defición:\n",
        "for variable in range(vi,vf+1, paso):\n",
        "  aquí se repite parte del código:\n",
        "Donde:\n",
        "1. vi: Condición inicial. Donde arranco a contar.\n",
        "2. vf+1: Condición final. Donde dejo de contar+1\n",
        "3. paso: Frecuencia de conteo\n",
        "\n",
        "for para recorrido de listas\n",
        "flor=[\"amapola\",\"rosa\",\"tulipan\",\"orquidea\"]\n",
        "- El para va a iterar tantas veces como elementos tenga la lista\n",
        "- Varibale dentro del para, toma como valor, cada elemento de la lista\n",
        "\n",
        "for varibale in lista:\n",
        "  variable\n",
        "```\n",
        "\n"
      ],
      "metadata": {
        "id": "SxQDK9SemO56"
      }
    },
    {
      "cell_type": "code",
      "source": [
        "#Creando una lista de nombre flor\n",
        "flor=[\"amapola\",\"rosa\",\"tulipan\",\"orquidea\"]\n",
        "for rosa in flor:\n",
        "  print(rosa)"
      ],
      "metadata": {
        "colab": {
          "base_uri": "https://localhost:8080/"
        },
        "id": "5LLHQDna1GDU",
        "outputId": "0f643331-01ba-4c0d-e33f-361a14a1ac60"
      },
      "execution_count": 13,
      "outputs": [
        {
          "output_type": "stream",
          "name": "stdout",
          "text": [
            "amapola\n",
            "rosa\n",
            "tulipan\n",
            "orquidea\n"
          ]
        }
      ]
    },
    {
      "cell_type": "markdown",
      "source": [
        "#Estructura while\n",
        " Se emplea cuando **NO SE SABE** cuántas veces se debe repetir una acción, pero si se conoce su condición de parada (CP).\n",
        "- Condición inicial: Donde arranca el ciclo\n",
        "- Condición final (parada): Que indica donde se detiene el ciclo\n",
        "- Modificador de condición inicial\n",
        "\n",
        "Estructura general del mientras\n",
        "\n",
        "```\n",
        "Condición inicial\n",
        "while(condicion==condicion final):\n",
        "\n",
        "  modificador de condición inicial\n",
        "```\n",
        "Modificadores de condición inicial\n",
        "- Banderas son boleanos\n",
        "- Son preguntas\n",
        "- Son contadores o acumuladores\n",
        "\n"
      ],
      "metadata": {
        "id": "HFek6HGN2KJE"
      }
    }
  ]
}