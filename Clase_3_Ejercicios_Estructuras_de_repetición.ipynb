{
  "nbformat": 4,
  "nbformat_minor": 0,
  "metadata": {
    "colab": {
      "provenance": []
    },
    "kernelspec": {
      "name": "python3",
      "display_name": "Python 3"
    },
    "language_info": {
      "name": "python"
    }
  },
  "cells": [
    {
      "cell_type": "markdown",
      "source": [
        "# Estructuras de repetición\n",
        "\n",
        "\n",
        "\n",
        "Se emplean cuando se desea repetir una parte del codigo, dada una **condición**\n",
        "\n",
        "\n"
      ],
      "metadata": {
        "id": "BiRv7-gdl4EC"
      }
    },
    {
      "cell_type": "markdown",
      "source": [
        "##Listas\n",
        "- Son un conjunto de objetos, **inexado**, separado por comas y encerrado entre [].\n",
        "- Todos los elementos dentro de una lista, se empiezan a contar desde 0.\n",
        "##Creación de listas\n",
        "- Forma general: lista[]\n",
        "- Forma manual: animales=[\"gato\", \"perro\", \"zorro\", \"oso\"]\n",
        "- Por conversión: número=list(range(10))\n",
        "\n",
        "\n",
        "\n",
        "\n",
        "```\n",
        "Lista=[]\n",
        "```\n",
        "\n",
        "\n",
        "\n"
      ],
      "metadata": {
        "id": "SyZ1syjKwc-w"
      }
    },
    {
      "cell_type": "code",
      "source": [
        "lista=[]"
      ],
      "metadata": {
        "id": "_B2ZrcjuxkT_"
      },
      "execution_count": null,
      "outputs": []
    },
    {
      "cell_type": "code",
      "source": [
        "type(lista)"
      ],
      "metadata": {
        "colab": {
          "base_uri": "https://localhost:8080/"
        },
        "id": "MAIfUuNyxr93",
        "outputId": "0b11707d-15c5-4e75-a384-5cbb84f390c4"
      },
      "execution_count": null,
      "outputs": [
        {
          "output_type": "execute_result",
          "data": {
            "text/plain": [
              "list"
            ]
          },
          "metadata": {},
          "execution_count": 4
        }
      ]
    },
    {
      "cell_type": "code",
      "source": [
        " zorro=(1,2,3,4)\n",
        " animales=[\"gato\", \"perro\", zorro, \"oso\"]\n",
        " animales"
      ],
      "metadata": {
        "colab": {
          "base_uri": "https://localhost:8080/"
        },
        "id": "KfuVlQYzyHYG",
        "outputId": "0d8b2732-c9b1-4ecc-fea0-f3508823a5dc"
      },
      "execution_count": null,
      "outputs": [
        {
          "output_type": "execute_result",
          "data": {
            "text/plain": [
              "['gato', 'perro', (1, 2, 3, 4), 'oso']"
            ]
          },
          "metadata": {},
          "execution_count": 5
        }
      ]
    },
    {
      "cell_type": "code",
      "source": [
        "type(zorro)"
      ],
      "metadata": {
        "colab": {
          "base_uri": "https://localhost:8080/"
        },
        "id": "t6jVo9uWyeKP",
        "outputId": "a6187551-036b-48d7-d836-7995c4f7263e"
      },
      "execution_count": null,
      "outputs": [
        {
          "output_type": "execute_result",
          "data": {
            "text/plain": [
              "tuple"
            ]
          },
          "metadata": {},
          "execution_count": 6
        }
      ]
    },
    {
      "cell_type": "code",
      "source": [
        "número=list(range(10))\n",
        "número"
      ],
      "metadata": {
        "colab": {
          "base_uri": "https://localhost:8080/"
        },
        "id": "--39FVLczXMF",
        "outputId": "bd769950-f203-4e6c-bc64-328c8fbe55af"
      },
      "execution_count": null,
      "outputs": [
        {
          "output_type": "execute_result",
          "data": {
            "text/plain": [
              "[0, 1, 2, 3, 4, 5, 6, 7, 8, 9]"
            ]
          },
          "metadata": {},
          "execution_count": 7
        }
      ]
    },
    {
      "cell_type": "code",
      "source": [
        "range(10)"
      ],
      "metadata": {
        "id": "v174veVCzi4m"
      },
      "execution_count": null,
      "outputs": []
    },
    {
      "cell_type": "code",
      "source": [
        "type(range(10))"
      ],
      "metadata": {
        "colab": {
          "base_uri": "https://localhost:8080/"
        },
        "id": "wLZt7vFozqfN",
        "outputId": "36eec99e-0f09-4ec8-963e-65e232567ec1"
      },
      "execution_count": null,
      "outputs": [
        {
          "output_type": "execute_result",
          "data": {
            "text/plain": [
              "range"
            ]
          },
          "metadata": {},
          "execution_count": 8
        }
      ]
    },
    {
      "cell_type": "markdown",
      "source": [
        "##Estructura para - for\n",
        "\n",
        "\n",
        "```\n",
        "Se usa cuando\n",
        "- Se sabe cuántas veces se repite una acción\n",
        "- Está compuesta por un contador y una condición\n",
        "- Contador:Identifica cuántas veces se va a reptir el bucle y con qué frecuencia\n",
        "- Condición: Evalúa cuándo se detiene\n",
        "\n",
        "Por defición:\n",
        "for variable in range(vi,vf+1, paso):\n",
        "  aquí se repite parte del código:\n",
        "Donde:\n",
        "1. vi: Condición inicial. Donde arranco a contar.\n",
        "2. vf+1: Condición final. Donde dejo de contar+1\n",
        "3. paso: Frecuencia de conteo\n",
        "\n",
        "for para recorrido de listas\n",
        "flor=[\"amapola\",\"rosa\",\"tulipan\",\"orquidea\"]\n",
        "- El para va a iterar tantas veces como elementos tenga la lista\n",
        "- Varibale dentro del para, toma como valor, cada elemento de la lista\n",
        "\n",
        "for varibale in lista:\n",
        "  variable\n",
        "```\n",
        "\n"
      ],
      "metadata": {
        "id": "SxQDK9SemO56"
      }
    },
    {
      "cell_type": "code",
      "source": [
        "#Creando una lista de nombre flor\n",
        "flor=[\"amapola\",\"rosa\",\"tulipan\",\"orquidea\"]\n",
        "for rosa in flor:\n",
        "  print(rosa)"
      ],
      "metadata": {
        "colab": {
          "base_uri": "https://localhost:8080/"
        },
        "id": "5LLHQDna1GDU",
        "outputId": "0f643331-01ba-4c0d-e33f-361a14a1ac60"
      },
      "execution_count": null,
      "outputs": [
        {
          "output_type": "stream",
          "name": "stdout",
          "text": [
            "amapola\n",
            "rosa\n",
            "tulipan\n",
            "orquidea\n"
          ]
        }
      ]
    },
    {
      "cell_type": "code",
      "source": [
        "lista=[]\n"
      ],
      "metadata": {
        "id": "36gRdHl9QxZW"
      },
      "execution_count": 1,
      "outputs": []
    },
    {
      "cell_type": "code",
      "source": [
        "lista=list(range(1,8))"
      ],
      "metadata": {
        "id": "BMS25BeDQ0x1"
      },
      "execution_count": 3,
      "outputs": []
    },
    {
      "cell_type": "code",
      "source": [
        "list.count()"
      ],
      "metadata": {
        "id": "qpHnrOL2Q_-e"
      },
      "execution_count": null,
      "outputs": []
    },
    {
      "cell_type": "code",
      "source": [
        "name=[]\n",
        "for nombres in range(5):\n",
        "  name.append(input(\"Ingrese su nombre: \"))"
      ],
      "metadata": {
        "colab": {
          "base_uri": "https://localhost:8080/"
        },
        "id": "q-bNGmKISGb9",
        "outputId": "1197b480-09fe-4fc8-ae8c-bf6f13ac61ca"
      },
      "execution_count": 2,
      "outputs": [
        {
          "name": "stdout",
          "output_type": "stream",
          "text": [
            "Ingrese su nombre: 1\n",
            "Ingrese su nombre: 2\n",
            "Ingrese su nombre: 3\n",
            "Ingrese su nombre: 4\n",
            "Ingrese su nombre: 5\n"
          ]
        }
      ]
    },
    {
      "cell_type": "markdown",
      "source": [
        "#Estructura while\n",
        " Se emplea cuando **NO SE SABE** cuántas veces se debe repetir una acción, pero si se conoce su condición de parada (CP).\n",
        "- Condición inicial: Donde arranca el ciclo\n",
        "- Condición final (parada): Que indica donde se detiene el ciclo\n",
        "- Modificador de condición inicial\n",
        "\n",
        "Estructura general del mientras\n",
        "\n",
        "```\n",
        "Condición inicial\n",
        "while(condicion==condicion final):\n",
        "\n",
        "  modificador de condición inicial\n",
        "```\n",
        "Modificadores de condición inicial\n",
        "- Banderas son boleanos\n",
        "- Son preguntas\n",
        "- Son contadores o acumuladores\n",
        "\n"
      ],
      "metadata": {
        "id": "HFek6HGN2KJE"
      }
    },
    {
      "cell_type": "markdown",
      "source": [
        "# **Ejercicios de clase**"
      ],
      "metadata": {
        "id": "pnhiC-P00Hh6"
      }
    },
    {
      "cell_type": "markdown",
      "source": [
        "1. Escribe un programa que imprima los números del 1 al 10\n",
        "\n",
        "\n",
        "```\n",
        "Estructura para-for\n",
        "```\n",
        "\n"
      ],
      "metadata": {
        "id": "R-ZON4WN0LwK"
      }
    },
    {
      "cell_type": "code",
      "source": [
        "for hola in range(1, 11):\n",
        "    print(hola)"
      ],
      "metadata": {
        "colab": {
          "base_uri": "https://localhost:8080/"
        },
        "id": "3m7hoA4J0zd_",
        "outputId": "32b16a5d-f726-4831-9836-44349bfd8386"
      },
      "execution_count": 4,
      "outputs": [
        {
          "output_type": "stream",
          "name": "stdout",
          "text": [
            "1\n",
            "2\n",
            "3\n",
            "4\n",
            "5\n",
            "6\n",
            "7\n",
            "8\n",
            "9\n",
            "10\n"
          ]
        }
      ]
    },
    {
      "cell_type": "markdown",
      "source": [
        "\n",
        "\n",
        "```\n",
        "Estructura for-listas\n",
        "```\n",
        "\n"
      ],
      "metadata": {
        "id": "OPJthksTWLFK"
      }
    },
    {
      "cell_type": "code",
      "source": [
        "lista=[1,10]\n",
        "for lista in range(1,11):\n",
        "  print(lista)"
      ],
      "metadata": {
        "colab": {
          "base_uri": "https://localhost:8080/"
        },
        "id": "1Inv8wRGZXf_",
        "outputId": "598b7fa4-268f-4b7a-b809-dbf4f4355e70"
      },
      "execution_count": 25,
      "outputs": [
        {
          "output_type": "stream",
          "name": "stdout",
          "text": [
            "1\n",
            "2\n",
            "3\n",
            "4\n",
            "5\n",
            "6\n",
            "7\n",
            "8\n",
            "9\n",
            "10\n"
          ]
        }
      ]
    },
    {
      "cell_type": "markdown",
      "source": [
        "2. Escribe un programa que sume los números del 1 al 100.\n",
        "\n",
        "\n",
        "```\n",
        "Estructura para-for\n",
        "```\n",
        "\n"
      ],
      "metadata": {
        "id": "SFuSfa8k1PCt"
      }
    },
    {
      "cell_type": "code",
      "source": [
        "suma = 0\n",
        "for numero in range(1, 101):\n",
        "    suma += numero\n",
        "print(\"La suma de los números del 1 al 100 es: \")\n",
        "print(suma)"
      ],
      "metadata": {
        "colab": {
          "base_uri": "https://localhost:8080/"
        },
        "id": "eOW2PO9e1Zwo",
        "outputId": "d042023d-3dab-4668-ba1d-571124a91ef4"
      },
      "execution_count": 11,
      "outputs": [
        {
          "output_type": "stream",
          "name": "stdout",
          "text": [
            "La suma de los números del 1 al 100 es: \n",
            "5050\n"
          ]
        }
      ]
    },
    {
      "cell_type": "markdown",
      "source": [
        "\n",
        "\n",
        "```\n",
        "Estructura for-lista\n",
        "```\n",
        "\n"
      ],
      "metadata": {
        "id": "KxB6UmScWkex"
      }
    },
    {
      "cell_type": "code",
      "source": [],
      "metadata": {
        "id": "pBLUF1QIXfkR"
      },
      "execution_count": null,
      "outputs": []
    },
    {
      "cell_type": "markdown",
      "source": [
        "3. Escribe un programa que imprima los múltiplos de 3 entre 1 y 30.\n",
        "\n",
        "\n",
        "```\n",
        "Estructura para-for\n",
        "```\n",
        "\n"
      ],
      "metadata": {
        "id": "PnqA_XTD3Bs6"
      }
    },
    {
      "cell_type": "code",
      "source": [
        "for i in range(1, 31):\n",
        "    if i % 3 == 0:\n",
        "        print(i)\n"
      ],
      "metadata": {
        "colab": {
          "base_uri": "https://localhost:8080/"
        },
        "id": "2G3Wg7Nd3Md6",
        "outputId": "83d1372c-986e-4b29-bfe3-ffc5da333a44"
      },
      "execution_count": null,
      "outputs": [
        {
          "output_type": "stream",
          "name": "stdout",
          "text": [
            "3\n",
            "6\n",
            "9\n",
            "12\n",
            "15\n",
            "18\n",
            "21\n",
            "24\n",
            "27\n",
            "30\n"
          ]
        }
      ]
    },
    {
      "cell_type": "markdown",
      "source": [
        "4. Escribe un programa que lea un número e imprima su tabla de multiplicar del 1 al 10.\n",
        "\n",
        "\n",
        "```\n",
        "Estructura para-for\n",
        "```\n",
        "\n"
      ],
      "metadata": {
        "id": "ArUz7QlwUtIk"
      }
    },
    {
      "cell_type": "code",
      "source": [
        "numero = int(input(\"Introduce un número: \"))\n",
        "print(f\"Tabla de multiplicar del {numero}:\")\n",
        "for i in range(1, 11):\n",
        "    resultado = numero * i\n",
        "    print(f\"{numero} x {i} = {resultado}\")"
      ],
      "metadata": {
        "colab": {
          "base_uri": "https://localhost:8080/"
        },
        "id": "lqLBrluRUyg3",
        "outputId": "fdf30552-0523-4ae4-9a4c-3a14fee79d44"
      },
      "execution_count": null,
      "outputs": [
        {
          "output_type": "stream",
          "name": "stdout",
          "text": [
            "Introduce un número: 4\n",
            "Tabla de multiplicar del 4:\n",
            "4 x 1 = 4\n",
            "4 x 2 = 8\n",
            "4 x 3 = 12\n",
            "4 x 4 = 16\n",
            "4 x 5 = 20\n",
            "4 x 6 = 24\n",
            "4 x 7 = 28\n",
            "4 x 8 = 32\n",
            "4 x 9 = 36\n",
            "4 x 10 = 40\n"
          ]
        }
      ]
    },
    {
      "cell_type": "markdown",
      "source": [
        "5. Escribe un programa que pida 5 números al usuario y calcule el promedio.\n",
        "\n",
        "\n",
        "```\n",
        "Estructura para-for\n",
        "```\n",
        "\n"
      ],
      "metadata": {
        "id": "WsTi2he0V6He"
      }
    },
    {
      "cell_type": "code",
      "source": [
        "suma = 0\n",
        "for i in range(5):\n",
        "    numero = float(input(f\"Ingrese el número {i + 1}: \"))\n",
        "    suma += numero\n",
        "promedio = suma / 5\n",
        "print(f\"El promedio de los 5 números ingresados es: {promedio}\")"
      ],
      "metadata": {
        "colab": {
          "base_uri": "https://localhost:8080/"
        },
        "id": "selfxwDGW13O",
        "outputId": "41375417-725c-47fb-b232-b8efe05d861b"
      },
      "execution_count": null,
      "outputs": [
        {
          "output_type": "stream",
          "name": "stdout",
          "text": [
            "Ingrese el número 1: 4\n",
            "Ingrese el número 2: 5\n",
            "Ingrese el número 3: 5\n",
            "Ingrese el número 4: 4\n",
            "Ingrese el número 5: 4\n",
            "El promedio de los 5 números ingresados es: 4.4\n"
          ]
        }
      ]
    },
    {
      "cell_type": "markdown",
      "source": [
        "6. Escribe un programa que cuente cuántos números pares hay entre 1 y un número ingresado.\n",
        "\n",
        "\n",
        "```\n",
        "Estructura para-for\n",
        "```\n",
        "\n"
      ],
      "metadata": {
        "id": "PzP_dybQY6eP"
      }
    },
    {
      "cell_type": "code",
      "source": [
        "numero = int(input(\"Ingresa un número: \"))\n",
        "contadorpares = 0\n",
        "for i in range(1, numero + 1):\n",
        "    if i % 2 == 0:\n",
        "        contadorpares += 1\n",
        "print(f\"Hay {contadorpares} números pares entre 1 y {numero}.\")"
      ],
      "metadata": {
        "colab": {
          "base_uri": "https://localhost:8080/"
        },
        "id": "MCzJwn1-ZNok",
        "outputId": "75532ed9-d5a6-4489-e2b9-672c29c49416"
      },
      "execution_count": 20,
      "outputs": [
        {
          "output_type": "stream",
          "name": "stdout",
          "text": [
            "Ingresa un número: 5\n",
            "Hay 2 números pares entre 1 y 5.\n"
          ]
        }
      ]
    },
    {
      "cell_type": "markdown",
      "source": [
        "7. Escribe un programa que solicite contraseñas hasta que el usuario ingrese una válida, formada por su apellido y la longitud de su apellido (“Espinosa8”, por ejemplo).\n",
        "\n",
        "\n",
        "```\n",
        "Estructura para-for\n",
        "```\n",
        "\n"
      ],
      "metadata": {
        "id": "dPCTdrUsnNLf"
      }
    },
    {
      "cell_type": "markdown",
      "source": [
        "8. Escribe un programa que imprima los primeros n números de la serie de Fibonacci\n",
        "\n",
        "\n",
        "```\n",
        "Estructura para-for\n",
        "```\n",
        "\n"
      ],
      "metadata": {
        "id": "qPTXQxxKsgwq"
      }
    },
    {
      "cell_type": "markdown",
      "source": [
        "9. Escribe un programa que determine si un número ingresado es primo.\n",
        "\n",
        "\n",
        "```\n",
        "Estructura para-for\n",
        "```\n",
        "\n"
      ],
      "metadata": {
        "id": "gq_q75eZtVft"
      }
    },
    {
      "cell_type": "markdown",
      "source": [
        "10. Escribe un programa que pida una cantidad y luego ingrese esa cantidad de números, imprima cuántos son positivos, negativos y ceros.\n",
        "\n",
        "\n",
        "```\n",
        "Estructura para-for\n",
        "```\n",
        "\n",
        "\n"
      ],
      "metadata": {
        "id": "u7-fDMDBu3FP"
      }
    }
  ]
}