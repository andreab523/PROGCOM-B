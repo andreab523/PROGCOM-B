{
  "nbformat": 4,
  "nbformat_minor": 0,
  "metadata": {
    "colab": {
      "provenance": []
    },
    "kernelspec": {
      "name": "python3",
      "display_name": "Python 3"
    },
    "language_info": {
      "name": "python"
    }
  },
  "cells": [
    {
      "cell_type": "markdown",
      "source": [
        "#Prueba diagnóstica"
      ],
      "metadata": {
        "id": "OoP3G6p_oayk"
      }
    },
    {
      "cell_type": "markdown",
      "source": [
        "##Ejercicios de selección"
      ],
      "metadata": {
        "id": "xiDfISWhoyQT"
      }
    },
    {
      "cell_type": "markdown",
      "source": [
        "1. Estructura de Decisión"
      ],
      "metadata": {
        "id": "EzeCCrlzqSVT"
      }
    },
    {
      "cell_type": "markdown",
      "source": [
        "1.1 Escribe un programa que reciba un número e indique si es positivo."
      ],
      "metadata": {
        "id": "wLWFkRhvquxK"
      }
    },
    {
      "cell_type": "code",
      "execution_count": 1,
      "metadata": {
        "colab": {
          "base_uri": "https://localhost:8080/"
        },
        "id": "AvFT2qwLnuYF",
        "outputId": "8a3e790f-7cd6-405d-9602-3a6b9ebea955"
      },
      "outputs": [
        {
          "output_type": "stream",
          "name": "stdout",
          "text": [
            "Ingrese un número: 4\n",
            "El número es positivo.\n"
          ]
        }
      ],
      "source": [
        "numero = float(input(\"Ingrese un número: \"))\n",
        "if numero > 0:\n",
        "  print(\"El número es positivo.\")\n",
        "else:\n",
        "  print(\"El número no es positivo.\")\n",
        ""
      ]
    },
    {
      "cell_type": "markdown",
      "source": [
        "1.2 Escribe un programa que reciba una edad y determine si la persona es mayor de edad."
      ],
      "metadata": {
        "id": "2WlKUWc4rgQ6"
      }
    },
    {
      "cell_type": "code",
      "source": [
        "def es_mayor_de_edad(edad):\n",
        "  if edad >= 18:\n",
        "    return True\n",
        "  else:\n",
        "    return False\n",
        "\n",
        "edad = int(input(\"Por favor, ingresa tu edad: \"))\n",
        "\n",
        "if es_mayor_de_edad(edad):\n",
        "  print(\"Eres mayor de edad.\")\n",
        "else:\n",
        "  print(\"Eres menor de edad. \")\n",
        ""
      ],
      "metadata": {
        "colab": {
          "base_uri": "https://localhost:8080/"
        },
        "id": "8ZxLiNDor5sh",
        "outputId": "50e9ff50-cef1-4a2a-fa61-6f712676c074"
      },
      "execution_count": 2,
      "outputs": [
        {
          "output_type": "stream",
          "name": "stdout",
          "text": [
            "Por favor, ingresa tu edad: 21\n",
            "Eres mayor de edad.\n"
          ]
        }
      ]
    },
    {
      "cell_type": "markdown",
      "source": [
        "1.3 Escribe un programa que reciba dos números e imprima el mayor."
      ],
      "metadata": {
        "id": "eOGHDl77s8hZ"
      }
    },
    {
      "cell_type": "code",
      "source": [
        "numero1 = float(input(\"Ingrese el primer número: \"))\n",
        "numero2 = float(input(\"Ingrese el segundo número: \"))\n",
        "if numero1 > numero2:\n",
        "  print(f\"El mayor es: {numero1}\")\n",
        "elif numero2 > numero1:\n",
        "  print(f\"El mayor es: {numero2}\")\n",
        "else:\n",
        "  print(\"Ambos números son iguales.\")\n",
        ""
      ],
      "metadata": {
        "colab": {
          "base_uri": "https://localhost:8080/"
        },
        "id": "i55px84cteaA",
        "outputId": "f09515f4-ca20-407b-935c-072a4bfb5825"
      },
      "execution_count": 3,
      "outputs": [
        {
          "output_type": "stream",
          "name": "stdout",
          "text": [
            "Ingrese el primer número: 1\n",
            "Ingrese el segundo número: 1\n",
            "Ambos números son iguales.\n"
          ]
        }
      ]
    },
    {
      "cell_type": "markdown",
      "source": [
        "1.4 Escribe un programa que reciba un calificación (0-100) e indique si es Aprobado (>=60) o Reprobado."
      ],
      "metadata": {
        "id": "ID9T-pHPunSA"
      }
    },
    {
      "cell_type": "code",
      "source": [
        "calificacion = float(input(\"Ingrese su calificación (0-100): \"))\n",
        "if 0 <= calificacion <= 100:\n",
        "  if calificacion >= 60:\n",
        "    print(\"Aprobado\")\n",
        "  else:\n",
        "    print(\"Reprobado\")\n",
        "\n"
      ],
      "metadata": {
        "colab": {
          "base_uri": "https://localhost:8080/"
        },
        "id": "t_xCz4SWvFOH",
        "outputId": "1ba91187-d001-4bd9-a326-7df44bcd1c3f"
      },
      "execution_count": 5,
      "outputs": [
        {
          "output_type": "stream",
          "name": "stdout",
          "text": [
            "Ingrese su calificación (0-100): 60\n",
            "Aprobado\n"
          ]
        }
      ]
    },
    {
      "cell_type": "markdown",
      "source": [
        "1.5 Escribe un programa que determine si un número es par o impar.\n"
      ],
      "metadata": {
        "id": "1abk0joev8t3"
      }
    },
    {
      "cell_type": "code",
      "source": [
        "numero = int(input(\"Ingresa un número: \"))\n",
        "if (numero // 2) * 2 == numero:\n",
        "  print(f\"El número {numero} es par.\")\n",
        "else:\n",
        "  print(f\"El número {numero} es impar.\")\n",
        ""
      ],
      "metadata": {
        "colab": {
          "base_uri": "https://localhost:8080/"
        },
        "id": "sHPpcg2swSeP",
        "outputId": "5f49a75f-4ac3-427a-bd6a-2f4631af1893"
      },
      "execution_count": 6,
      "outputs": [
        {
          "output_type": "stream",
          "name": "stdout",
          "text": [
            "Ingresa un número: 3\n",
            "El número 3 es impar.\n"
          ]
        }
      ]
    },
    {
      "cell_type": "markdown",
      "source": [
        "1.6 Escribe un programa que reciba tres números e imprima el mayor de los tres."
      ],
      "metadata": {
        "id": "2MQaKgTQx86P"
      }
    },
    {
      "cell_type": "code",
      "source": [
        "numero1 = float(input(\"Ingresa el primer número: \"))\n",
        "numero2 = float(input(\"Ingresa el segundo número: \"))\n",
        "numero3 = float(input(\"Ingresa el tercer número: \"))\n",
        "if numero1 >= numero2 and numero1 >= numero3:\n",
        "  mayor = numero1\n",
        "elif numero2 >= numero1 and numero2 >= numero3:\n",
        "  mayor = numero2\n",
        "else:\n",
        "  mayor = numero3\n",
        "print(f\"El mayor de los tres números es:{mayor}\")\n"
      ],
      "metadata": {
        "colab": {
          "base_uri": "https://localhost:8080/"
        },
        "id": "1Q59JY1nzb_V",
        "outputId": "b2705e4b-fa03-4cb8-f022-179a31d1317b"
      },
      "execution_count": 7,
      "outputs": [
        {
          "output_type": "stream",
          "name": "stdout",
          "text": [
            "Ingresa el primer número: 1\n",
            "Ingresa el segundo número: 2\n",
            "Ingresa el tercer número: 3\n",
            "El mayor de los tres números es:3.0\n"
          ]
        }
      ]
    }
  ]
}