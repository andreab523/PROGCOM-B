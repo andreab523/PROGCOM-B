{
  "nbformat": 4,
  "nbformat_minor": 0,
  "metadata": {
    "colab": {
      "provenance": []
    },
    "kernelspec": {
      "name": "python3",
      "display_name": "Python 3"
    },
    "language_info": {
      "name": "python"
    }
  },
  "cells": [
    {
      "cell_type": "markdown",
      "source": [
        "#Estructuras de Selección\n",
        "Se emplean cuando quiero evaluar una condición. El resultado de la evaluación de esta condición siempre se da en Booleano (V o F)."
      ],
      "metadata": {
        "id": "PFK5lKgKL9Lg"
      }
    },
    {
      "cell_type": "markdown",
      "source": [
        "##Estructura if-else\n",
        "\n",
        "\n",
        "if (condición):\n",
        "  entro aquí, si la condición dió V\n",
        "else:\n",
        "  entro aquí, si la condición es = F"
      ],
      "metadata": {
        "id": "IZ58pc4fMQwG"
      }
    },
    {
      "cell_type": "markdown",
      "source": [
        "7. Año bisiesto\n",
        "\n",
        "1.   Elemento de la lista\n",
        "2.   Elemento de la lista\n",
        "\n"
      ],
      "metadata": {
        "id": "_E8G1ECsM568"
      }
    },
    {
      "cell_type": "code",
      "execution_count": null,
      "metadata": {
        "id": "KRS51Pn7L5j3"
      },
      "outputs": [],
      "source": [
        "#1. Es divisible entre 4\n",
        "#2. Es divisible entre 400 pero no entre 100\n",
        "año = int(input(\"Introduzca un año: \"))\n",
        "if (año%4==0 and año%100!=0):\n",
        "  print(f\"{año} es un año bisiesto\")\n",
        "else:\n",
        "  if (año%400==0):\n",
        "    print(f\"{año} es un año bisiesto\")\n",
        "    else:\n",
        "      print(f\"{año} no es un año bisiesto\")"
      ]
    },
    {
      "cell_type": "markdown",
      "source": [
        "##Estructura de decisión múltiple if-elif-else\n",
        "Se emplea cuando hay más de una decisión.\n",
        "\n",
        "```\n",
        "if (cond1):\n",
        "si cond1 es V. entro aquí\n",
        "elif (cond2):\n",
        "si cond1 es falso, pero cond2 es V, entro aquí.\n",
        "elif (cond3):\n",
        "si cond1 y cond2 son falso, pero cond3 es V, entro aquí\n",
        "else: si cond1 y cond2 y cond3 y condn son falsas, entrará aquí\n",
        "```"
      ],
      "metadata": {
        "id": "yq3bsaTSPWxG"
      }
    },
    {
      "cell_type": "code",
      "source": [
        "if (año%4==0 and año%100!=0): print(f\"{año} es un año bisiesto\")\n",
        "elif año%400==0:print(f\"{año} es un año bisiesto\")\n",
        "else:print(f\"{año} no es un año bisiesto\")"
      ],
      "metadata": {
        "id": "MQDlw-WFQF4s"
      },
      "execution_count": null,
      "outputs": []
    },
    {
      "cell_type": "markdown",
      "source": [
        "##Operador terniario\n",
        "Programar una estructura de selección en una sola línea de código\n",
        "\n",
        "\n",
        "```\n",
        "(Lo que se debe ejecutar si la condición es verdadera) if (condición) else (lo que se debe ejecutar, si la condición es falsa)\n",
        "```\n",
        "\n"
      ],
      "metadata": {
        "id": "cuuIKs0_VjK2"
      }
    },
    {
      "cell_type": "markdown",
      "source": [],
      "metadata": {
        "id": "bluTd7PwY9V-"
      }
    },
    {
      "cell_type": "code",
      "source": [
        "print(f\"{año} es un año bisiesto\") if (año%4==0 and año%100!=0) else (print(f\"{año} es un año bisiesto\")if año%400==0 and año%100 else print(f\"{año} no es un año bisiesto\"))\n"
      ],
      "metadata": {
        "id": "m5oWu1acWEx1"
      },
      "execution_count": null,
      "outputs": []
    },
    {
      "cell_type": "markdown",
      "source": [
        "**Ejercicios Prueba diagnóstica**"
      ],
      "metadata": {
        "id": "5JG8fqDOR4C4"
      }
    },
    {
      "cell_type": "markdown",
      "source": [
        "1. Escribe un programa que reciba un número e indique si es positivo.\n",
        "\n",
        "```\n",
        "Estructura if-else\n",
        "```"
      ],
      "metadata": {
        "id": "P7nE7pwJSEFP"
      }
    },
    {
      "cell_type": "code",
      "source": [
        "numero = float(input(\"Ingrese un número: \"))\n",
        "if numero > 0:\n",
        "  print(\"El número es positivo.\")\n",
        "else:\n",
        "  print(\"El número no es positivo.\")"
      ],
      "metadata": {
        "colab": {
          "base_uri": "https://localhost:8080/"
        },
        "id": "bAPEWxioSLg3",
        "outputId": "c0e25db8-a039-4dbe-d10a-dda56dd9cb38"
      },
      "execution_count": null,
      "outputs": [
        {
          "output_type": "stream",
          "name": "stdout",
          "text": [
            "Ingrese un número: 3\n",
            "El número es positivo.\n"
          ]
        }
      ]
    },
    {
      "cell_type": "markdown",
      "source": [
        "\n",
        "```\n",
        "Estructura de decisión múltiple if-elif-else\n",
        "```"
      ],
      "metadata": {
        "id": "wp_VeNHwSyHe"
      }
    },
    {
      "cell_type": "code",
      "source": [
        "numero = float(input(\"Ingresa un número: \"))\n",
        "if numero > 0:\n",
        "  print(\"El número es positivo.\")\n",
        "elif numero < 0:\n",
        "  print(\"El número es negativo.\")\n",
        "else:\n",
        "  print(\"El número es cero.\")"
      ],
      "metadata": {
        "colab": {
          "base_uri": "https://localhost:8080/"
        },
        "id": "p7Oja2YYS56l",
        "outputId": "51fa450f-a0db-423d-d799-0845383681b0"
      },
      "execution_count": null,
      "outputs": [
        {
          "output_type": "stream",
          "name": "stdout",
          "text": [
            "Ingresa un número: 3\n",
            "El número es positivo.\n"
          ]
        }
      ]
    },
    {
      "cell_type": "markdown",
      "source": [
        "2.Escribe un programa que reciba una edad y determine si la persona es mayor de edad.\n",
        "\n",
        "```\n",
        "Estructura if-else\n",
        "```"
      ],
      "metadata": {
        "id": "h10lNBnFT65D"
      }
    },
    {
      "cell_type": "code",
      "source": [
        "edad = int(input(\"Ingresa tu edad: \"))\n",
        "if edad >= 18:\n",
        "  print(\"Eres mayor de edad. \")\n",
        "else:\n",
        "  print(\"Eres menor de edad.\")"
      ],
      "metadata": {
        "colab": {
          "base_uri": "https://localhost:8080/"
        },
        "id": "YyuHwB3nUaPB",
        "outputId": "5058f667-cdcb-4a03-e1f9-8391cd0d2f03"
      },
      "execution_count": null,
      "outputs": [
        {
          "output_type": "stream",
          "name": "stdout",
          "text": [
            "Ingresa tu edad: 21\n",
            "Eres mayor de edad. \n"
          ]
        }
      ]
    },
    {
      "cell_type": "markdown",
      "source": [
        "\n",
        "```\n",
        "Estructura de decisión múltiple if-elif-else\n",
        "```\n",
        "\n"
      ],
      "metadata": {
        "id": "FTAz2Xd8WPTV"
      }
    },
    {
      "cell_type": "code",
      "source": [
        "edad = int(input(\"Ingresa tu edad: \"))\n",
        "if edad <= 0:\n",
        "  print(\"ERROR. Tu edad no puede ser negativa.\")\n",
        "elif edad < 18:\n",
        "  print(\"Eres menor de edad.\")\n",
        "else:\n",
        "  print(\"Eres mayor de edad.\")"
      ],
      "metadata": {
        "colab": {
          "base_uri": "https://localhost:8080/"
        },
        "id": "EoMBED5OXFnL",
        "outputId": "f5eb7588-249e-41d9-845d-9785e525b356"
      },
      "execution_count": null,
      "outputs": [
        {
          "output_type": "stream",
          "name": "stdout",
          "text": [
            "Ingresa tu edad: 12\n",
            "Eres menor de edad.\n"
          ]
        }
      ]
    },
    {
      "cell_type": "markdown",
      "source": [
        "3. Escribe un programa que reciba dos números e imprima el mayor.\n",
        "\n",
        "\n",
        "```\n",
        "Estructura if-else\n",
        "```\n",
        "\n"
      ],
      "metadata": {
        "id": "5Yfx0POZX8WR"
      }
    },
    {
      "cell_type": "code",
      "source": [
        "numero1 = float(input(\"Ingresa el primer número: \"))\n",
        "numero2 = float(input(\"Ingresa el segundo número: \"))\n",
        "if numero1 > numero2:\n",
        "  print(f\"El mayor es {numero1}\")\n",
        "else:\n",
        "  print(f\"El mayor es {numero2}\")"
      ],
      "metadata": {
        "colab": {
          "base_uri": "https://localhost:8080/"
        },
        "id": "txoMmTjvZsqV",
        "outputId": "8a734d95-3cc0-42e8-f445-996e940cee69"
      },
      "execution_count": null,
      "outputs": [
        {
          "output_type": "stream",
          "name": "stdout",
          "text": [
            "Ingresa el primer número: 3\n",
            "Ingresa el segundo número: 2\n",
            "El mayor es 3.0\n"
          ]
        }
      ]
    },
    {
      "cell_type": "markdown",
      "source": [
        "\n",
        "```\n",
        "Estructura de decisión múltiple if-elif-else\n",
        "```"
      ],
      "metadata": {
        "id": "BuQb7FC7avuq"
      }
    },
    {
      "cell_type": "code",
      "source": [
        "numero1 = float(input(\"Ingresa el primero número: \"))\n",
        "numero2 = float(input(\"Ingresa el segundo número: \"))\n",
        "if numero1 > numero2:\n",
        "  print(f\"El mayor es: {numero1}\")\n",
        "elif numero2 > numero1:\n",
        "  print(f\"El mayor es: {numero2}\")\n",
        "else:\n",
        "  print(\"Ambos números son iguales.\")"
      ],
      "metadata": {
        "colab": {
          "base_uri": "https://localhost:8080/"
        },
        "id": "N0ZIXgiUa5da",
        "outputId": "6568498b-d4f4-42dd-ab69-cb24634906c8"
      },
      "execution_count": null,
      "outputs": [
        {
          "output_type": "stream",
          "name": "stdout",
          "text": [
            "Ingresa el primero número: 1\n",
            "Ingresa el segundo número: 2\n",
            "El mayor es: 2.0\n"
          ]
        }
      ]
    },
    {
      "cell_type": "markdown",
      "source": [
        "4. Escribe un programa que reciba una calificación (0-100) e indique si es Aprobado (>=60) o Reprobado.\n",
        "```\n",
        "Estructura if-else\n",
        "```"
      ],
      "metadata": {
        "id": "C8I6P6xXcRbm"
      }
    },
    {
      "cell_type": "code",
      "source": [
        "calificacion = float(input(\"Ingrese su calificación (0-100): \"))\n",
        "if 0 <= calificacion <= 100:\n",
        "  if calificacion >= 60:\n",
        "    print(\"Aprobado\")\n",
        "  else:\n",
        "    print(\"Reprobado\")"
      ],
      "metadata": {
        "colab": {
          "base_uri": "https://localhost:8080/"
        },
        "id": "62VW96Xqc_78",
        "outputId": "635497df-925a-4111-8de9-bb95f9af0046"
      },
      "execution_count": null,
      "outputs": [
        {
          "output_type": "stream",
          "name": "stdout",
          "text": [
            "Ingrese su calificación (0-100): 60\n",
            "Aprobado\n"
          ]
        }
      ]
    },
    {
      "cell_type": "markdown",
      "source": [
        "\n",
        "```\n",
        "Estructura de decisión múltiple if-elif-else\n",
        "```\n"
      ],
      "metadata": {
        "id": "YKYba1fLdZJr"
      }
    },
    {
      "cell_type": "code",
      "source": [
        "calificacion = float(input(\"Ingrese su calificación (0-100): \"))\n",
        "if 0 <= calificacion <= 100:\n"
      ],
      "metadata": {
        "id": "8-TCjudPdiKy"
      },
      "execution_count": null,
      "outputs": []
    },
    {
      "cell_type": "markdown",
      "source": [
        "5. Escribe un programa que determine si un número es par o impar"
      ],
      "metadata": {
        "id": "6h3MopJkdrF6"
      }
    },
    {
      "cell_type": "code",
      "source": [
        "numero = int(input(\"Ingresa un número: \"))\n",
        "if (numero // 2) * 2 == numero:\n",
        "  print(f\"El número {numero} es par.\")\n",
        "else:\n",
        "  print(f\"El número {numero} es impar.\")"
      ],
      "metadata": {
        "colab": {
          "base_uri": "https://localhost:8080/"
        },
        "id": "6Syy_MADd8KR",
        "outputId": "aca18a39-0d41-4e21-d910-4de71833956f"
      },
      "execution_count": null,
      "outputs": [
        {
          "output_type": "stream",
          "name": "stdout",
          "text": [
            "Ingresa un número: 3\n",
            "El número 3 es impar.\n"
          ]
        }
      ]
    },
    {
      "cell_type": "markdown",
      "source": [
        "6. Escriba un programa que reciba tres números e imprima el mayor de los tres."
      ],
      "metadata": {
        "id": "WTRtGPBVeSSg"
      }
    },
    {
      "cell_type": "code",
      "source": [],
      "metadata": {
        "id": "x9iXqJJPeopw"
      },
      "execution_count": null,
      "outputs": []
    }
  ]
}